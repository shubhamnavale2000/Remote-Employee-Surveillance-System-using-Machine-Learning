{
 "cells": [
  {
   "cell_type": "markdown",
   "metadata": {},
   "source": [
    "Importing the libraries"
   ]
  },
  {
   "cell_type": "code",
   "execution_count": 1,
   "metadata": {},
   "outputs": [
    {
     "name": "stdout",
     "output_type": "stream",
     "text": [
      "pygame 2.0.1 (SDL 2.0.14, Python 3.9.7)\n",
      "Hello from the pygame community. https://www.pygame.org/contribute.html\n"
     ]
    }
   ],
   "source": [
    "import os\n",
    "import cv2\n",
    "from keras.models import load_model\n",
    "import numpy as np\n",
    "from pygame import mixer\n",
    "import time # Timer\n",
    "import sys  # Timer\n",
    "import socket\n",
    "from twilio.rest import Client\n",
    "import datetime # using datetime module"
   ]
  },
  {
   "cell_type": "markdown",
   "metadata": {},
   "source": [
    "Initializing Pygame Mixer and assigning Alarm file to mixer "
   ]
  },
  {
   "cell_type": "code",
   "execution_count": 2,
   "metadata": {},
   "outputs": [],
   "source": [
    "mixer.init()\n",
    "sound = mixer.Sound('Audio/alarm.mp3')"
   ]
  },
  {
   "cell_type": "markdown",
   "metadata": {},
   "source": [
    "Initializing Timer variables to zero and creating object of Timer"
   ]
  },
  {
   "cell_type": "code",
   "execution_count": 3,
   "metadata": {},
   "outputs": [],
   "source": [
    "start_time = 0"
   ]
  },
  {
   "cell_type": "markdown",
   "metadata": {},
   "source": [
    "Alert sound function"
   ]
  },
  {
   "cell_type": "code",
   "execution_count": 4,
   "metadata": {},
   "outputs": [],
   "source": [
    "def alert():\n",
    "    mixer.init()\n",
    "    sound = mixer.Sound('Audio/alarm.mp3')\n",
    "    if(score>5 and score<10):\n",
    "       \n",
    "        # infinite loop till close\n",
    "        # main.mainloop() \n",
    "\n",
    "        # Give an audio alert to the employee\n",
    "        try:\n",
    "            sound.play()\n",
    "        except:  # isplaying = False\n",
    "            pass"
   ]
  },
  {
   "cell_type": "markdown",
   "metadata": {},
   "source": [
    "Setting Remote server to 1.1.1.1 and Creating Internet Conncetion Checker function"
   ]
  },
  {
   "cell_type": "code",
   "execution_count": 5,
   "metadata": {},
   "outputs": [],
   "source": [
    "REMOTE_SERVER = \"1.1.1.1\"\n",
    "\n",
    "def is_connected(hostname):\n",
    "  try:\n",
    "    host = socket.gethostbyname(hostname)\n",
    "    s = socket.create_connection((host, 80), 2)\n",
    "    s.close()\n",
    "    return 'True'\n",
    "  except:\n",
    "     pass\n",
    "  return 'False'"
   ]
  },
  {
   "cell_type": "markdown",
   "metadata": {},
   "source": [
    "Creating a function for Setting File names for Video files recorded during drowsy state"
   ]
  },
  {
   "cell_type": "code",
   "execution_count": 6,
   "metadata": {},
   "outputs": [],
   "source": [
    "def getAviNameWithDate(nameIn=\"Video.avi\"):\n",
    "    if not nameIn.endswith(\".avi\"):\n",
    "        raise ValueError(\"filename must end on .avi\")\n",
    "\n",
    "    filename = nameIn.replace(\".avi\",\"_{0}.avi\").format(datetime.datetime.now().strftime(\"%Y-%m-%d-%I-%M-%S\"))\n",
    "\n",
    "    if os.path.isfile(filename):             # if already exists\n",
    "        fn2 = filename[0:-4]+'_{0}.avi'          # modify pattern to include a number\n",
    "        count = 1\n",
    "        while os.path.isfile(fn2.format(count)): # increase number until file not exists\n",
    "            count += 1\n",
    "            return fn2.format(count)                 # return file with number in it\n",
    "    else:                                    # filename ok, return it\n",
    "        return filename"
   ]
  },
  {
   "cell_type": "markdown",
   "metadata": {},
   "source": [
    "Log file appending function"
   ]
  },
  {
   "cell_type": "code",
   "execution_count": 7,
   "metadata": {},
   "outputs": [],
   "source": [
    "def logfile(start,end):\n",
    "  f = open(\"log.txt\",\"a+\")\n",
    "  f.write(\"\\nDisconnected from {start} to {end}\".format(start=start,end=end))\n",
    "  f.close()"
   ]
  },
  {
   "cell_type": "markdown",
   "metadata": {},
   "source": [
    "Setting file paths for cascade and Model files"
   ]
  },
  {
   "cell_type": "code",
   "execution_count": 8,
   "metadata": {},
   "outputs": [],
   "source": [
    "face = cv2.CascadeClassifier('haar cascade files\\haarcascade_frontalface_alt.xml')\n",
    "leye = cv2.CascadeClassifier('haar cascade files\\haarcascade_lefteye_2splits.xml')\n",
    "reye = cv2.CascadeClassifier('haar cascade files\\haarcascade_righteye_2splits.xml')\n",
    "model = load_model('models/cnncat2.h5')"
   ]
  },
  {
   "cell_type": "markdown",
   "metadata": {},
   "source": [
    "Setting Twilio Account sID and authentication token"
   ]
  },
  {
   "cell_type": "code",
   "execution_count": 9,
   "metadata": {},
   "outputs": [],
   "source": [
    "account_sid = \"AC305eed341fc053d5e854b401e15568b0\"\n",
    "auth_token = \"e484047a314259614e1ce4f8349342a9\"\n",
    "client = Client(account_sid, auth_token)"
   ]
  },
  {
   "cell_type": "markdown",
   "metadata": {},
   "source": [
    "Assigning all prediction related variables and fontstyle for label"
   ]
  },
  {
   "cell_type": "code",
   "execution_count": 10,
   "metadata": {},
   "outputs": [],
   "source": [
    "path = os.getcwd()\n",
    "cap = cv2.VideoCapture(0)\n",
    "\n",
    "lbl=['Close','Open']\n",
    "font = cv2.FONT_HERSHEY_COMPLEX_SMALL\n",
    "\n",
    "count=0\n",
    "score=0\n",
    "thicc=2\n",
    "\n",
    "rpred=[99]\n",
    "lpred=[99]"
   ]
  },
  {
   "cell_type": "code",
   "execution_count": null,
   "metadata": {},
   "outputs": [],
   "source": [
    "while(True):\n",
    "    \n",
    "    ret, frame = cap.read()\n",
    "    height,width = frame.shape[:2]\n",
    "    \n",
    "#------ Initializing Timer variables to zero and creating object of Timer ------#\n",
    "    time_start = time.time()\n",
    "    seconds = 0\n",
    "    minutes = 0\n",
    "    iLog = 0\n",
    "\n",
    "#------ Manipulating brightness and contrast of frame ------#\n",
    "    # frame = cv2.cvtColor(frame, cv2.COLOR_BGR2HSV)\n",
    "    # contrast = 3\n",
    "    # brightness = 40\n",
    "    # frame[:,:,2] = np.clip(contrast * frame[:,:,2] + brightness, 0, 255)\n",
    "    # frame = cv2.cvtColor(frame, cv2.COLOR_HSV2BGR)\n",
    "  \n",
    "    gray = cv2.cvtColor(frame, cv2.COLOR_BGR2GRAY)\n",
    "    faces = face.detectMultiScale(gray,minNeighbors=5,scaleFactor=1.1,minSize=(25,25))\n",
    "    \n",
    "    if(len(faces)==1):\n",
    "    \n",
    "        left_eye = leye.detectMultiScale(gray)\n",
    "        right_eye =  reye.detectMultiScale(gray)\n",
    "\n",
    "        cv2.rectangle(frame, (0,height-50) , (200,height) , (0,0,0) , thickness=cv2.FILLED )\n",
    "\n",
    "        cv2.putText(frame,\"Face is Detected\",(10,20), font, 1,(255,255,255),1,cv2.LINE_AA)\n",
    "\n",
    "        for (x,y,w,h) in faces:\n",
    "            cv2.rectangle(frame,(x,y),(x+w,y+h),(100,100,100),1)\n",
    "        \n",
    "        for (x,y,w,h) in left_eye:\n",
    "            cv2.rectangle(frame,(x,y),(x+w,y+h),(0,0,0),1)\n",
    "\n",
    "        for (x,y,w,h) in right_eye:\n",
    "            cv2.rectangle(frame,(x,y),(x,y),(0,0,0),1)\n",
    "\n",
    "        for (x,y,w,h) in right_eye:\n",
    "            r_eye=frame[y:y+h,x:x+w]\n",
    "            count=count+1\n",
    "            r_eye = cv2.cvtColor(r_eye,cv2.COLOR_BGR2GRAY)\n",
    "            r_eye = cv2.resize(r_eye,(24,24))\n",
    "            r_eye= r_eye/255\n",
    "            r_eye=  r_eye.reshape(24,24,-1)\n",
    "            r_eye = np.expand_dims(r_eye,axis=0)\n",
    "            rpred = np.argmax(model.predict(r_eye), axis=-1)\n",
    "            if(rpred[0]==1):\n",
    "                lbl='Open' \n",
    "            if(rpred[0]==0):\n",
    "                lbl='Closed'\n",
    "            break\n",
    "\n",
    "        for (x,y,w,h) in left_eye:\n",
    "            l_eye=frame[y:y+h,x:x+w]\n",
    "            count=count+1\n",
    "            l_eye = cv2.cvtColor(l_eye,cv2.COLOR_BGR2GRAY)  \n",
    "            l_eye = cv2.resize(l_eye,(24,24))\n",
    "            l_eye= l_eye/255\n",
    "            l_eye=l_eye.reshape(24,24,-1)\n",
    "            l_eye = np.expand_dims(l_eye,axis=0)\n",
    "            lpred = np.argmax(model.predict(l_eye), axis=-1)\n",
    "            if(lpred[0]==1):\n",
    "                lbl='Open'   \n",
    "            if(lpred[0]==0):\n",
    "                lbl='Closed'\n",
    "            break\n",
    "            \n",
    "        if(rpred[0]==0 and lpred[0]==0):\n",
    "            score=score+1\n",
    "            cv2.putText(frame,\"Closed\",(10,height-20), font, 1,(255,255,255),1,cv2.LINE_AA)\n",
    "        else:\n",
    "            score=0\n",
    "            cv2.putText(frame,\"Open\",(10,height-20), font, 1,(255,255,255),1,cv2.LINE_AA)\n",
    "            \n",
    "    ##----Score loops start from here------##\n",
    "            \n",
    "        if(score<0):\n",
    "            score=0\n",
    "    \n",
    "        cv2.putText(frame,'Score:'+str(score),(100,height-20), font, 1,(255,255,255),1,cv2.LINE_AA)\n",
    "            \n",
    "        # if(score>10 and score<30):\n",
    "        if(score==10):\n",
    "            \n",
    "            # Give an audio alert to the employee\n",
    "            try:\n",
    "                sound.play()\n",
    "            except:  # isplaying = False\n",
    "                pass\n",
    "        \n",
    "        if(score==15):  \n",
    "            #Save image of employee in drowsy state\n",
    "            cv2.imwrite(os.path.join(path,'proof.jpg'),frame)\n",
    "            \n",
    "            #Send a message alert to employer's phone\n",
    "            message = client.messages \\\n",
    "            .create(body='Hello Niraj sir! Gaurav is sleeping!',from_='+18787288786',to='+919271909065')\n",
    "\n",
    "        if(score==19):\n",
    "            fourcc = cv2.VideoWriter_fourcc(*'XVID')\n",
    "            out = cv2.VideoWriter(getAviNameWithDate(),fourcc, 5.0, (640,480))\n",
    "\n",
    "        if(score>20 and score<150):\n",
    "            #writes and saves videos\n",
    "            out.write(frame)\n",
    "            out.release()\n",
    "\n",
    "    else:\n",
    "        cv2.putText(frame,\"Face is not Detected\",(10,20), font, 1,(255,255,255),1,cv2.LINE_AA)\n",
    "\n",
    "    # Invoke OpenCV window\n",
    "    cv2.imshow('frame',frame)\n",
    "\n",
    "    if cv2.waitKey(1) & 0xFF == ord('q'):\n",
    "        break\n",
    "    \n",
    "    #------ Checking for internet connection throughout the run------#\n",
    "    while is_connected(REMOTE_SERVER) == 'False':\n",
    "        iLog = 1   # iLog has kept as 1 for reverting the loop of Log file appending\n",
    "\n",
    "        if(minutes == 0 and seconds == 1):\n",
    "            ct_start = datetime.datetime.now()  # ct_start stores the start time\n",
    "            start_time = ct_start\n",
    "            print(ct_start)\n",
    "\n",
    "        # Timer to record the time interval of internet disconnection    \n",
    "        try:\n",
    "            sys.stdout.write(\"\\r{minutes} Minutes {seconds} Seconds\".format(minutes=minutes, seconds=seconds))\n",
    "            sys.stdout.flush()\n",
    "            time.sleep(1)\n",
    "            seconds = int(time.time() - time_start) - minutes * 60\n",
    "            if seconds >= 60:\n",
    "                minutes += 1\n",
    "                seconds = 0\n",
    "        except KeyboardInterrupt:\n",
    "            break\n",
    "\n",
    "    if start_time!=0:\n",
    "        if(iLog == 1):\n",
    "            ct_end = datetime.datetime.now()   # ct_end stores the end time\n",
    "            end_time = ct_end\n",
    "            print(ct_end) \n",
    "            iLog+=1                 #increasing iLog more than 1 to break the if loop\n",
    "            logfile(start_time,end_time)   #send the start and end time to logFile\n"
   ]
  },
  {
   "cell_type": "markdown",
   "metadata": {},
   "source": [
    "Releasing CV2 Object and VideoCapture instance when job is finished"
   ]
  },
  {
   "cell_type": "code",
   "execution_count": null,
   "metadata": {},
   "outputs": [],
   "source": [
    "cap.release()\n",
    "cv2.destroyAllWindows()"
   ]
  }
 ],
 "metadata": {
  "interpreter": {
   "hash": "d561c1bf2e6851bd79211bead0d24080a821613026c569880630f742ae255c4b"
  },
  "kernelspec": {
   "display_name": "Python 3.9.7 64-bit",
   "name": "python3"
  },
  "language_info": {
   "codemirror_mode": {
    "name": "ipython",
    "version": 3
   },
   "file_extension": ".py",
   "mimetype": "text/x-python",
   "name": "python",
   "nbconvert_exporter": "python",
   "pygments_lexer": "ipython3",
   "version": "3.9.7"
  }
 },
 "nbformat": 4,
 "nbformat_minor": 5
}
